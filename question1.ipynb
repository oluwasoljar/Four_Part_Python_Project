{
 "cells": [
  {
   "cell_type": "markdown",
   "id": "dc2e0604",
   "metadata": {},
   "source": [
    "## CMM028 Coursework Assessment Brief - Tagged.pdf"
   ]
  },
  {
   "cell_type": "markdown",
   "id": "a6640955",
   "metadata": {},
   "source": [
    "### Task 1 – A Resource Menu\n"
   ]
  },
  {
   "cell_type": "markdown",
   "id": "8427a3e2",
   "metadata": {},
   "source": [
    "### Overview\n",
    "#### This task involves querying the computer to obtain some information about its computational resources. You will construct a menu system that gives the user several options for enquiring about the computer. You should keep offering the user the opportunity to select an option until they choose to quit.\n",
    "### Details\n",
    "#### You should construct a menu that offers the user a number of different options. It should repeatedly allow the user to choose an option, perform the corresponding operation, print the results for the user, then ask the user for another choice. This should continue until the user selects the exit option. The options that the menu should offer are:\n",
    "####  Get the percentage usage of each CPU core over 10 seconds and print this out.\n",
    "####  Get the amount of RAM currently being used and print this out in gigabytes.\n",
    "####  Get the name and version of the operating system and print this out.\n",
    "####  Check whether the computer is currently busy. This is defined as both the CPU and RAM usage being over 50%. \n",
    "####  A message saying whether or not the computer is busy should be printed.\n",
    "####  Exit"
   ]
  },
  {
   "cell_type": "code",
   "execution_count": 1,
   "id": "92719b10",
   "metadata": {},
   "outputs": [],
   "source": [
    "#Import dependencies\n",
    "import psutil\n",
    "import os\n",
    "import platform"
   ]
  },
  {
   "cell_type": "code",
   "execution_count": 2,
   "id": "10221627",
   "metadata": {},
   "outputs": [],
   "source": [
    "##https://www.geeksforgeeks.org/how-to-get-current-cpu-and-ram-usage-in-python/#:~:text=Get%20current%20CPU%20usage%20using,to%20provide%20a%20time%20interval.\n",
    "def cpu_usage():  \n",
    "    print('The CPU usage is: ', psutil.cpu_percent(10) , '%')"
   ]
  },
  {
   "cell_type": "code",
   "execution_count": 3,
   "id": "6396b8f6",
   "metadata": {},
   "outputs": [],
   "source": [
    "def memory_usage(): \n",
    "    print('RAM Used:', psutil.virtual_memory()[3]/1000000000 , '(GB)')"
   ]
  },
  {
   "cell_type": "code",
   "execution_count": 4,
   "id": "007bf431",
   "metadata": {},
   "outputs": [],
   "source": [
    "#https://stackoverflow.com/questions/110362/how-can-i-find-the-current-os-in-python\n",
    "def os_name_version():\n",
    "    print('The Operating System is:', platform.system() , 'operating system.')\n",
    "    print('Version : ', platform.release() )    "
   ]
  },
  {
   "cell_type": "code",
   "execution_count": 5,
   "id": "e0db90fd",
   "metadata": {},
   "outputs": [],
   "source": [
    "def busy_or_not():\n",
    "    if(((psutil.virtual_memory()[2]) > 50) & (psutil.cpu_percent(5) > 50)):\n",
    "        print('Memory and CPU usage:', psutil.virtual_memory()[2] , '% & ', psutil.cpu_percent(5),  '% respectively. Therefore system is busy.')\n",
    "    else:\n",
    "        print('Memory and CPU usage:', psutil.virtual_memory()[2] , '% & ', psutil.cpu_percent(5),  '% respectively. Therefore system is not busy.')"
   ]
  },
  {
   "cell_type": "code",
   "execution_count": 6,
   "id": "eac05c76",
   "metadata": {},
   "outputs": [
    {
     "name": "stdout",
     "output_type": "stream",
     "text": [
      "WELCOME TO A RESOURCE MENU PROGRAM\n",
      "\n",
      "OPTIONS MENU\n",
      "Press '1' to get C.P.U. usage\n",
      "Press '2' to get R.A.M. usage\n",
      "Press '3' to get Operating System\n",
      "Press '4' to check if system is busy\n",
      "Press '5' to Exit\n",
      "\n",
      "Enter the Choice:1\n",
      "You selected '1' to get C.P.U. usage\n",
      "\n",
      "The CPU usage is:  9.4 %\n",
      "\n",
      "\n",
      "\n",
      "OPTIONS MENU\n",
      "Press '1' to get C.P.U. usage\n",
      "Press '2' to get R.A.M. usage\n",
      "Press '3' to get Operating System\n",
      "Press '4' to check if system is busy\n",
      "Press '5' to Exit\n",
      "\n",
      "Enter the Choice:2\n",
      "You selected '2' to get R.A.M. usage\n",
      "\n",
      "RAM Used: 5.587054592 (GB)\n",
      "\n",
      "\n",
      "\n",
      "OPTIONS MENU\n",
      "Press '1' to get C.P.U. usage\n",
      "Press '2' to get R.A.M. usage\n",
      "Press '3' to get Operating System\n",
      "Press '4' to check if system is busy\n",
      "Press '5' to Exit\n",
      "\n",
      "Enter the Choice:3\n",
      "You selected '3' to get Operating System\n",
      "\n",
      "The Operating System is: Windows operating system.\n",
      "Version :  10\n",
      "\n",
      "\n",
      "\n",
      "OPTIONS MENU\n",
      "Press '1' to get C.P.U. usage\n",
      "Press '2' to get R.A.M. usage\n",
      "Press '3' to get Operating System\n",
      "Press '4' to check if system is busy\n",
      "Press '5' to Exit\n",
      "\n",
      "Enter the Choice:4\n",
      "You selected '4' to check if system is busy\n",
      "\n",
      "Memory and CPU usage: 66.4 % &  15.7 % respectively. Therefore system is not busy.\n",
      "\n",
      "OPTIONS MENU\n",
      "Press '1' to get C.P.U. usage\n",
      "Press '2' to get R.A.M. usage\n",
      "Press '3' to get Operating System\n",
      "Press '4' to check if system is busy\n",
      "Press '5' to Exit\n",
      "\n",
      "Enter the Choice:6\n",
      "Oops! Incorrect Choice\n",
      "\n",
      "\n",
      "OPTIONS MENU\n",
      "Press '1' to get C.P.U. usage\n",
      "Press '2' to get R.A.M. usage\n",
      "Press '3' to get Operating System\n",
      "Press '4' to check if system is busy\n",
      "Press '5' to Exit\n",
      "\n",
      "Enter the Choice:5\n",
      "You selected '5'. Exiting the program...\n"
     ]
    }
   ],
   "source": [
    "#https://www.javatpoint.com/menu-driven-programs-in-python\n",
    "print(\"WELCOME TO A RESOURCE MENU PROGRAM\")  \n",
    "  \n",
    "# Select Options  \n",
    "while True:  \n",
    "    print(\"\\nOPTIONS MENU\")  \n",
    "    print(\"Press '1' to get C.P.U. usage\")  \n",
    "    print(\"Press '2' to get R.A.M. usage\")\n",
    "    print(\"Press '3' to get Operating System\")  \n",
    "    print(\"Press '4' to check if system is busy\")\n",
    "    print(\"Press '5' to Exit\\n\")  \n",
    "    choice = int(input(\"Enter the Choice:\"))  \n",
    "  \n",
    "    if choice == 1:\n",
    "        print(\"You selected '1' to get C.P.U. usage\\n\")\n",
    "        cpu_usage()\n",
    "        print('\\n')\n",
    "      \n",
    "    elif choice == 2:\n",
    "        print(\"You selected '2' to get R.A.M. usage\\n\")\n",
    "        memory_usage()\n",
    "        print('\\n')\n",
    "    \n",
    "    elif choice == 3:\n",
    "        print(\"You selected '3' to get Operating System\\n\")\n",
    "        os_name_version()\n",
    "        print('\\n')\n",
    "        \n",
    "    elif choice == 4:\n",
    "        print(\"You selected '4' to check if system is busy\\n\")\n",
    "        busy_or_not()   \n",
    "      \n",
    "    elif choice == 5: \n",
    "        print(\"You selected '5'. Exiting the program...\")\n",
    "        break  \n",
    "      \n",
    "    else:  \n",
    "        print(\"Oops! Incorrect Choice\\n\")  "
   ]
  },
  {
   "cell_type": "code",
   "execution_count": null,
   "id": "015e56a4",
   "metadata": {},
   "outputs": [],
   "source": []
  }
 ],
 "metadata": {
  "kernelspec": {
   "display_name": "Python 3 (ipykernel)",
   "language": "python",
   "name": "python3"
  },
  "language_info": {
   "codemirror_mode": {
    "name": "ipython",
    "version": 3
   },
   "file_extension": ".py",
   "mimetype": "text/x-python",
   "name": "python",
   "nbconvert_exporter": "python",
   "pygments_lexer": "ipython3",
   "version": "3.9.12 (main, Apr  4 2022, 05:22:27) [MSC v.1916 64 bit (AMD64)]"
  },
  "vscode": {
   "interpreter": {
    "hash": "a077222d77dfe082b8f1dd562ad70e458ac2ab76993a0b248ab0476e32e9e8dd"
   }
  }
 },
 "nbformat": 4,
 "nbformat_minor": 5
}
