{
 "cells": [
  {
   "cell_type": "markdown",
   "id": "dc2e0604",
   "metadata": {},
   "source": [
    "## CMM028 Coursework Assessment Brief - Tagged.pdf"
   ]
  },
  {
   "cell_type": "markdown",
   "id": "a8ab50d2",
   "metadata": {},
   "source": [
    "### Task 3 – A Connectivity Diagnoser\n",
    "### Overview\n",
    "#### This task involves communicating with a number of websites to obtain some information. You will use the obtained information     to produce a report on the quality of the internet connection that the computer has.\n",
    "### Details\n",
    "#### Choose three very large, well-known websites. You will attempt to connect to these websites and use the results of these connections to decide whether the computer has a connection to the internet, and if so, how good that connection is. This should be done as described below.\n",
    "#### Your code should first attempt to connect to each of the websites once and check whether it receives a response.\n",
    "#### If none of the websites provide a response, you should inform the user that the computer is probably not connected to the internet and your code should stop at this point.\n",
    "#### If you did manage to connect to at least one of the websites, but one or more of the websites didn’t respond, then you will need to try connecting again as follows.  \n",
    "#### What is expected of me in this assessment? \n",
    "#### For each website which didn’t respond, you should try connecting to it twice more and if it still doesn’t respond, you should print a message saying that this website is probably offline.\n",
    "#### Finally, you should print out a message saying whether you believe the computer has a good or bad internet connection, based on the response times of all your successful communication attempts during the task.\n",
    "#### (For testing, you might consider trying to connect to a website which doesn’t exist to check your program works as expected    when you don’t get a response.)"
   ]
  },
  {
   "cell_type": "code",
   "execution_count": 1,
   "id": "020882af",
   "metadata": {},
   "outputs": [
    {
     "name": "stdout",
     "output_type": "stream",
     "text": [
      "checking for internet connection...\n",
      "oops!\n",
      "internet unavailable!\n",
      "\n",
      "oops!\n",
      "oops!\n",
      "oops!\n"
     ]
    }
   ],
   "source": [
    "import urllib.request\n",
    "from http.client import HTTPConnection\n",
    "from urllib.parse import urlparse\n",
    "from socket import gethostbyname, gaierror\n",
    "       \n",
    "def connect(web_list):\n",
    "    try:\n",
    "        webUrl = urllib.request.urlopen(web_list)\n",
    "        status = webUrl.getcode()\n",
    "        if status == 200:\n",
    "            return True\n",
    "    except:\n",
    "        return False\n",
    "\n",
    "\n",
    "def site_is_online(url, timeout=2):\n",
    "    \"\"\"\n",
    "    Return True if the target URL is online.\n",
    "    Raise an exception otherwise.\n",
    "    \n",
    "    \"\"\"\n",
    "    error = Exception(\"unknown error\")\n",
    "    parser = urlparse(url)\n",
    "    host = parser.netloc or parser.path.split(\"/\")[0]\n",
    "    for port in (80, 443):\n",
    "        connection = HTTPConnection(host=host, port=port, timeout=timeout)\n",
    "        try:\n",
    "            connection.request(\"HEAD\", \"/\")\n",
    "            return True\n",
    "        #except Exception as e:\n",
    "            #error = e\n",
    "        except gaierror:\n",
    "            print('oops!')\n",
    "        break\n",
    "        #finally:\n",
    "            #connection.close()\n",
    "    #raise error    \n",
    "    \n",
    "url = ['http://google.com', 'http://facebk.com', 'http://youtube.com']\n",
    "not_connected = []\n",
    "\n",
    "print('checking for internet connection...')\n",
    "\n",
    "print(\"internet available!\\n\" if site_is_online(url[0]) else \"internet unavailable!\\n\")\n",
    "\n",
    "if site_is_online(url[0]):\n",
    "    for i in range(len(url)):  \n",
    "        print('checking', url[i]) \n",
    "        connect(url[i])\n",
    "        #print(url[i], \"connected!\\n\" if connect(url[i]) else not_connected.append(url[i]))\n",
    "        if connect(url[i]) == True:\n",
    "            print(url[i], 'connected\\n')\n",
    "        else:\n",
    "            not_connected.append(url[i])\n",
    "            print(url[i], 'connection failed. Will attempt again...\\n')\n",
    "        \n",
    "        \n",
    "#for x in range(len(not_connected)):\n",
    "    #print(not_connected[x]) \n",
    "    \n",
    "not_connected_2 = []\n",
    "\n",
    "if site_is_online(url[0]):\n",
    "    for i in range(len(not_connected)):\n",
    "        print('checking', not_connected[i], 'for second time...\\n') \n",
    "        connect(not_connected[i])\n",
    "        if connect(not_connected[i]) == True:\n",
    "            print(not_connected[i], 'connected at second attempt\\n')\n",
    "        else:\n",
    "            not_connected_2.append(not_connected[i])\n",
    "            print(not_connected[i], 'connection failed. Will attempt to connect a final time...\\n')\n",
    "        \n",
    "not_connected_3 = []\n",
    "\n",
    "if site_is_online(url[0]):\n",
    "    for i in range(len(not_connected_2)):\n",
    "        print('checking', not_connected_2[i], 'for final time...\\n') \n",
    "        connect(not_connected_2[i])\n",
    "        if connect(not_connected_2[i]) == True:\n",
    "            print(not_connected_2[i], 'connected at final attempt\\n')\n",
    "        else:\n",
    "            not_connected_3.append(not_connected_2[i])\n",
    "            print(not_connected_2[i], 'connection failed. Website is probably offline...\\n')\n",
    "\n",
    "\n"
   ]
  },
  {
   "cell_type": "code",
   "execution_count": null,
   "id": "79d9f226",
   "metadata": {},
   "outputs": [],
   "source": []
  }
 ],
 "metadata": {
  "kernelspec": {
   "display_name": "Python 3 (ipykernel)",
   "language": "python",
   "name": "python3"
  },
  "language_info": {
   "codemirror_mode": {
    "name": "ipython",
    "version": 3
   },
   "file_extension": ".py",
   "mimetype": "text/x-python",
   "name": "python",
   "nbconvert_exporter": "python",
   "pygments_lexer": "ipython3",
   "version": "3.9.12 (main, Apr  4 2022, 05:22:27) [MSC v.1916 64 bit (AMD64)]"
  },
  "vscode": {
   "interpreter": {
    "hash": "a077222d77dfe082b8f1dd562ad70e458ac2ab76993a0b248ab0476e32e9e8dd"
   }
  }
 },
 "nbformat": 4,
 "nbformat_minor": 5
}
